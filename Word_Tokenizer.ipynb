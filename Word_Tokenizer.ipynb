{
  "nbformat": 4,
  "nbformat_minor": 0,
  "metadata": {
    "colab": {
      "provenance": []
    },
    "kernelspec": {
      "name": "python3",
      "display_name": "Python 3"
    }
  },
  "cells": [
    {
      "cell_type": "markdown",
      "metadata": {
        "id": "2FuO82RTBftK"
      },
      "source": [
        "Go to https://drive.google.com/drive/folders/1Pe6D713L9S0GWwb_XzeLXAeNZOrBqZaN?usp=sharing and click add shortcut to drive (new UI: organize -> add shortcut -> my drive). This will add the data required for this assignment to your Google drive.\n",
        "\n",
        "<img src=\"https://drive.google.com/uc?id=1LqHisiziX8Ri94Xs6Cv8mhx6vivFM3kS\" alt=\"Drawing\" height=\"300\"/>\n",
        "\n",
        "Caution: Since this is real language on Twitter and deals with world events, some of it could be disturbing. In the later section of the course, we will deal with ethics and what is appropriate and what is not.\n",
        "\n",
        "First, let's read the tweets from the Google drive and print a few lines from the file.\n",
        "\n"
      ]
    },
    {
      "cell_type": "markdown",
      "metadata": {
        "id": "UtZEcHthBeXz"
      },
      "source": [
        "Run the below code snippet. It will generate a URL which generates an authorization code. Enter it below to give Colab access to your Google drive.\n",
        "\n",
        "**Note:** Copy button may not work. Try copying the authorization code manually."
      ]
    },
    {
      "cell_type": "code",
      "metadata": {
        "id": "KW-dce7oJlyr",
        "colab": {
          "base_uri": "https://localhost:8080/"
        },
        "outputId": "f7eb66d2-5dd0-43df-8545-65c9d55e8969"
      },
      "source": [
        "from google.colab import drive\n",
        "drive.mount('/content/drive/')"
      ],
      "execution_count": 1,
      "outputs": [
        {
          "output_type": "stream",
          "name": "stdout",
          "text": [
            "Mounted at /content/drive/\n"
          ]
        }
      ]
    },
    {
      "cell_type": "markdown",
      "metadata": {
        "id": "Ni2pYuuQKaHY"
      },
      "source": [
        "When you run the `ls` command below, you should see the files in the tweets folder.\n",
        "\n",
        "\n"
      ]
    },
    {
      "cell_type": "code",
      "metadata": {
        "id": "zYENtyc7SOxA",
        "colab": {
          "base_uri": "https://localhost:8080/"
        },
        "outputId": "792f5ad1-e6d8-4b4e-8027-11159baca463"
      },
      "source": [
        "!ls \"/content/drive/My Drive/tweets\""
      ],
      "execution_count": 2,
      "outputs": [
        {
          "output_type": "stream",
          "name": "stdout",
          "text": [
            "20000_tweets.jsonl\t\t\t\t  covid-tweets-2020-08-10-2020-08-21.trigrams.txt\n",
            "20000_tweets.txt\t\t\t\t  GoogleNews-vectors-negative300.bin.gz\n",
            "covid-tweets-2020-08-10-2020-08-21.tokenized.txt  stop_words.txt\n"
          ]
        }
      ]
    },
    {
      "cell_type": "markdown",
      "metadata": {
        "id": "vEvB8AMiqeNh"
      },
      "source": [
        "Let's read the top 10 tweets from the file `20000_tweets.txt` and print them."
      ]
    },
    {
      "cell_type": "code",
      "metadata": {
        "id": "gZMOmElPSPHk",
        "colab": {
          "base_uri": "https://localhost:8080/"
        },
        "outputId": "4483c9ec-e413-4005-bf06-8dbdd59960d3"
      },
      "source": [
        "f = open(\"/content/drive/My Drive/tweets/20000_tweets.txt\", \"r\")\n",
        "\n",
        "line_count = 0\n",
        "top_tweets = []\n",
        "for tweet in f:\n",
        "  print(\"### Tweet\", line_count, \"#####\")\n",
        "  print(tweet)\n",
        "\n",
        "  top_tweets.append(tweet)\n",
        "  line_count += 1\n",
        "  if line_count >= 10:\n",
        "    break\n",
        "f.close()"
      ],
      "execution_count": 3,
      "outputs": [
        {
          "output_type": "stream",
          "name": "stdout",
          "text": [
            "### Tweet 0 #####\n",
            "Covid-19 Economic Response: Cancel Student Loans by Executive Order. - Sign the Petition! https://t.co/BnPXWHv5cr via @Change\n",
            "\n",
            "### Tweet 1 #####\n",
            "Hey! The stock markets up! Fuck Trump and the Trumpublican Senate! https://t.co/4t6mgbaG2C\n",
            "\n",
            "### Tweet 2 #####\n",
            "@ProjectLincoln blame Trump for no sports because of Covid19 @MeidasTouch\n",
            "\n",
            "### Tweet 3 #####\n",
            "Do u guys think that reopening of the dinning in the restaurants of Lahore will bring any change in our lives? Nothing is going to change I think cause many people have learned cooking, painting and many new stuff during lockdown and I think we all will continue those things 1/2\n",
            "\n",
            "### Tweet 4 #####\n",
            "@NBCSAthletics Ya just knew the season wouldn’t go by without some bench clearing brawls... Covid or not. Behaviors can’t be changed because of rules, sadly\n",
            "\n",
            "### Tweet 5 #####\n",
            "You’re comparing apples and oranges. The NCAA has a lot more to balance than the NFL. https://t.co/oeMsbgeem7\n",
            "\n",
            "### Tweet 6 #####\n",
            "THANK YOU @POTUS Absolutely NO MONEY/NO BAILOUTS for Irresponsibly Run Democrat Cities...#NoBailouts https://t.co/bWLELcCutV\n",
            "\n",
            "### Tweet 7 #####\n",
            "#Texas #USA #NorthAmerica Cases: 509,539 (+21) Death: 8,583 Recovered: 344,845 Critical: 1,754 New %: 0.3% Death %: 1.7% Population %: 1.8% #CoronaVirus #Covid19 #SarsCov2 #Forecast https://t.co/yHbd9gl1uz https://t.co/sRulRFOeUx\n",
            "\n",
            "### Tweet 8 #####\n",
            "New Zealand celebrated their 100th day without COVID today. A society that works together for the common good: that's what actual freedom looks like. https://t.co/7qppin3QRM\n",
            "\n",
            "### Tweet 9 #####\n",
            "It’s going to be screen time all the time for kindergartners and graduate students alike. Teachers are threatening strikes. And students are already coming home infected with the coronavirus, which has upended American education. https://t.co/O3eT06wmrU\n",
            "\n"
          ]
        }
      ]
    },
    {
      "cell_type": "markdown",
      "metadata": {
        "id": "7r-IHJ3KU27N"
      },
      "source": [
        "# **Problem 1: Word Tokenizer**\n",
        "\n",
        "Implement your own tokenizer for tweets without using libraries like `nltk`, `spacy` or any existing tokenizers. Tokenizer is a fundamental tool for processing any text data. The tokenizer should preserve punctuations.\n",
        "\n",
        "The outputs for the top five tweets should approximately be as follows (it's fine to not exactly match this output)\n",
        "\n",
        "```\n",
        "['Covid-19', 'Economic', 'Response', ':', 'Cancel', 'Student', 'Loans', 'by', 'Executive', 'Order', '.', '-', 'Sign', 'the', 'Petition', '!', 'https://t.co/BnPXWHv5cr', 'via', '@Change']\n",
        "['Hey', '!', 'The', 'stock', 'markets', 'up', '!', 'Fuck', 'Trump', 'and', 'the', 'Trumpublican', 'Senate', '!', 'https://t.co/4t6mgbaG2C']\n",
        "['@ProjectLincoln', 'blame', 'Trump', 'for', 'no', 'sports', 'because', 'of', 'Covid19', '@MeidasTouch']\n",
        "['Do', 'u', 'guys', 'think', 'that', 'reopening', 'of', 'the', 'dinning', 'in', 'the', 'restaurants', 'of', 'Lahore', 'will', 'bring', 'any', 'change', 'in', 'our', 'lives', '?', 'Nothing', 'is', 'going', 'to', 'change', 'I', 'think', 'cause', 'many', 'people', 'have', 'learned', 'cooking', ',', 'painting', 'and', 'many', 'new', 'stuff', 'during', 'lockdown', 'and', 'I', 'think', 'we', 'all', 'will', 'continue', 'those', 'things', '1/2']\n",
        "['@NBCSAthletics', 'Ya', 'just', 'knew', 'the', 'season', 'would', 'n’t', 'go', 'by', 'without', 'some', 'bench', 'clearing', 'brawls', '...', 'Covid', 'or', 'not', '.', 'Behaviors', 'ca', 'n’t', 'be', 'changed', 'because', 'of', 'rules', ',', 'sadly']\n",
        "```\n",
        "\n",
        "A thing to note is that words like `wouldn't` and `you'll` become two tokens `would n't` and `you 'll`, after tokenization. Treating `n't` and  `'ll` as independent tokens is common in NLP tools. You can come up with that kind of list easily, e.g., `'s, 've`.\n"
      ]
    },
    {
      "cell_type": "code",
      "metadata": {
        "id": "0Y-oKzw7OHOX",
        "colab": {
          "base_uri": "https://localhost:8080/"
        },
        "outputId": "f8b49771-8c29-422f-eff4-d41949d89b29"
      },
      "source": [
        "# import any relevant libraries here\n",
        "import re\n",
        "\n",
        "# A function to tokenize text into words\n",
        "def tokenize(text):\n",
        "    url = r'https?://\\S+|www\\.\\S+'\n",
        "    user = r'@\\w+'\n",
        "    tag = r'#\\w+'\n",
        "    word = r'\\w+(?:-\\w+)*'\n",
        "    abbreviation = r\"\\w+n't|\\w+'(?:ll|ve|re|s|d|m)\"\n",
        "    punctuation = r'\\.\\.\\.|[.,;:!?]'\n",
        "    fraction = r'\\d+/\\d+'\n",
        "\n",
        "    patterns = f\"({url}|{user}|{tag}|{fraction}|{abbreviation}|{word}|{punctuation})\"\n",
        "\n",
        "    words = re.findall(patterns, text)\n",
        "\n",
        "    return words\n",
        "\n",
        "\n",
        "tokenized_top_tweets = [tokenize(tweet) for tweet in top_tweets]\n",
        "for tokenized_tweet in tokenized_top_tweets:\n",
        "  print(tokenized_tweet)"
      ],
      "execution_count": 4,
      "outputs": [
        {
          "output_type": "stream",
          "name": "stdout",
          "text": [
            "['Covid-19', 'Economic', 'Response', ':', 'Cancel', 'Student', 'Loans', 'by', 'Executive', 'Order', '.', 'Sign', 'the', 'Petition', '!', 'https://t.co/BnPXWHv5cr', 'via', '@Change']\n",
            "['Hey', '!', 'The', 'stock', 'markets', 'up', '!', 'Fuck', 'Trump', 'and', 'the', 'Trumpublican', 'Senate', '!', 'https://t.co/4t6mgbaG2C']\n",
            "['@ProjectLincoln', 'blame', 'Trump', 'for', 'no', 'sports', 'because', 'of', 'Covid19', '@MeidasTouch']\n",
            "['Do', 'u', 'guys', 'think', 'that', 'reopening', 'of', 'the', 'dinning', 'in', 'the', 'restaurants', 'of', 'Lahore', 'will', 'bring', 'any', 'change', 'in', 'our', 'lives', '?', 'Nothing', 'is', 'going', 'to', 'change', 'I', 'think', 'cause', 'many', 'people', 'have', 'learned', 'cooking', ',', 'painting', 'and', 'many', 'new', 'stuff', 'during', 'lockdown', 'and', 'I', 'think', 'we', 'all', 'will', 'continue', 'those', 'things', '1/2']\n",
            "['@NBCSAthletics', 'Ya', 'just', 'knew', 'the', 'season', 'wouldn', 't', 'go', 'by', 'without', 'some', 'bench', 'clearing', 'brawls', '...', 'Covid', 'or', 'not', '.', 'Behaviors', 'can', 't', 'be', 'changed', 'because', 'of', 'rules', ',', 'sadly']\n",
            "['You', 're', 'comparing', 'apples', 'and', 'oranges', '.', 'The', 'NCAA', 'has', 'a', 'lot', 'more', 'to', 'balance', 'than', 'the', 'NFL', '.', 'https://t.co/oeMsbgeem7']\n",
            "['THANK', 'YOU', '@POTUS', 'Absolutely', 'NO', 'MONEY', 'NO', 'BAILOUTS', 'for', 'Irresponsibly', 'Run', 'Democrat', 'Cities', '...', '#NoBailouts', 'https://t.co/bWLELcCutV']\n",
            "['#Texas', '#USA', '#NorthAmerica', 'Cases', ':', '509', ',', '539', '21', 'Death', ':', '8', ',', '583', 'Recovered', ':', '344', ',', '845', 'Critical', ':', '1', ',', '754', 'New', ':', '0', '.', '3', 'Death', ':', '1', '.', '7', 'Population', ':', '1', '.', '8', '#CoronaVirus', '#Covid19', '#SarsCov2', '#Forecast', 'https://t.co/yHbd9gl1uz', 'https://t.co/sRulRFOeUx']\n",
            "['New', 'Zealand', 'celebrated', 'their', '100th', 'day', 'without', 'COVID', 'today', '.', 'A', 'society', 'that', 'works', 'together', 'for', 'the', 'common', 'good', ':', \"that's\", 'what', 'actual', 'freedom', 'looks', 'like', '.', 'https://t.co/7qppin3QRM']\n",
            "['It', 's', 'going', 'to', 'be', 'screen', 'time', 'all', 'the', 'time', 'for', 'kindergartners', 'and', 'graduate', 'students', 'alike', '.', 'Teachers', 'are', 'threatening', 'strikes', '.', 'And', 'students', 'are', 'already', 'coming', 'home', 'infected', 'with', 'the', 'coronavirus', ',', 'which', 'has', 'upended', 'American', 'education', '.', 'https://t.co/O3eT06wmrU']\n"
          ]
        }
      ]
    },
    {
      "cell_type": "markdown",
      "metadata": {
        "id": "KEmNfrQqKoMY"
      },
      "source": [
        "# Problem 2: Post-process the tokenized tweets\n",
        "\n",
        "Clean the tokenized tweets such that usernames are repalced with `@USER`, URLs are replaced with `URL`, punctuations are removed and words are lower-cased.\n",
        "\n",
        "The output for the top ten tweets after cleaning should look something like this\n",
        "\n",
        "```\n",
        "['covid-19', 'economic', 'response', 'cancel', 'student', 'loans', 'by', 'executive', 'order', 'sign', 'the', 'petition', 'URL', 'via', '@USER']\n",
        "['hey', 'the', 'stock', 'markets', 'up', 'fuck', 'trump', 'and', 'the', 'trumpublican', 'senate', 'URL']\n",
        "['@USER', 'blame', 'trump', 'for', 'no', 'sports', 'because', 'of', 'covid19', '@USER']\n",
        "['do', 'u', 'guys', 'think', 'that', 'reopening', 'of', 'the', 'dinning', 'in', 'the', 'restaurants', 'of', 'lahore', 'will', 'bring', 'any', 'change', 'in', 'our', 'lives', 'nothing', 'is', 'going', 'to', 'change', 'i', 'think', 'cause', 'many', 'people', 'have', 'learned', 'cooking', 'painting', 'and', 'many', 'new', 'stuff', 'during', 'lockdown', 'and', 'i', 'think', 'we', 'all', 'will', 'continue', 'those', 'things', '1/2']\n",
        "['@USER', 'ya', 'just', 'knew', 'the', 'season', 'would', 'n’t', 'go', 'by', 'without', 'some', 'bench', 'clearing', 'brawls', 'covid', 'or', 'not', 'behaviors', 'ca', 'n’t', 'be', 'changed', 'because', 'of', 'rules', 'sadly']\n",
        "```"
      ]
    },
    {
      "cell_type": "markdown",
      "metadata": {
        "id": "jN_QSZ6paBpR"
      },
      "source": []
    },
    {
      "cell_type": "code",
      "metadata": {
        "id": "EMWFqI9KbDnY",
        "colab": {
          "base_uri": "https://localhost:8080/"
        },
        "outputId": "334783c7-06d7-4772-faf8-a045040dc671"
      },
      "source": [
        "# import relevant packages\n",
        "import re\n",
        "\n",
        "# function to clean a tweet\n",
        "def clean_a_tweet(tokenized_tweet):\n",
        "  clean_tokenized_tweet = []\n",
        "\n",
        "  for token in tokenized_tweet:\n",
        "    if token.startswith('@'):\n",
        "      clean_tokenized_tweet.append('@USER')\n",
        "    elif re.match(r'https?://\\S+|www\\.\\S+', token):\n",
        "      clean_tokenized_tweet.append('URL')\n",
        "    elif re.match(r'[^\\w\\s]', token):\n",
        "      continue\n",
        "    else:\n",
        "      clean_tokenized_tweet.append(token.lower())\n",
        "\n",
        "  return(clean_tokenized_tweet)\n",
        "\n",
        "anonymized_top_tweets = [clean_a_tweet(tokenized_tweet) for tokenized_tweet in tokenized_top_tweets]\n",
        "for tokenized_tweet in anonymized_top_tweets:\n",
        "  print(tokenized_tweet)"
      ],
      "execution_count": 5,
      "outputs": [
        {
          "output_type": "stream",
          "name": "stdout",
          "text": [
            "['covid-19', 'economic', 'response', 'cancel', 'student', 'loans', 'by', 'executive', 'order', 'sign', 'the', 'petition', 'URL', 'via', '@USER']\n",
            "['hey', 'the', 'stock', 'markets', 'up', 'fuck', 'trump', 'and', 'the', 'trumpublican', 'senate', 'URL']\n",
            "['@USER', 'blame', 'trump', 'for', 'no', 'sports', 'because', 'of', 'covid19', '@USER']\n",
            "['do', 'u', 'guys', 'think', 'that', 'reopening', 'of', 'the', 'dinning', 'in', 'the', 'restaurants', 'of', 'lahore', 'will', 'bring', 'any', 'change', 'in', 'our', 'lives', 'nothing', 'is', 'going', 'to', 'change', 'i', 'think', 'cause', 'many', 'people', 'have', 'learned', 'cooking', 'painting', 'and', 'many', 'new', 'stuff', 'during', 'lockdown', 'and', 'i', 'think', 'we', 'all', 'will', 'continue', 'those', 'things', '1/2']\n",
            "['@USER', 'ya', 'just', 'knew', 'the', 'season', 'wouldn', 't', 'go', 'by', 'without', 'some', 'bench', 'clearing', 'brawls', 'covid', 'or', 'not', 'behaviors', 'can', 't', 'be', 'changed', 'because', 'of', 'rules', 'sadly']\n",
            "['you', 're', 'comparing', 'apples', 'and', 'oranges', 'the', 'ncaa', 'has', 'a', 'lot', 'more', 'to', 'balance', 'than', 'the', 'nfl', 'URL']\n",
            "['thank', 'you', '@USER', 'absolutely', 'no', 'money', 'no', 'bailouts', 'for', 'irresponsibly', 'run', 'democrat', 'cities', 'URL']\n",
            "['cases', '509', '539', '21', 'death', '8', '583', 'recovered', '344', '845', 'critical', '1', '754', 'new', '0', '3', 'death', '1', '7', 'population', '1', '8', 'URL', 'URL']\n",
            "['new', 'zealand', 'celebrated', 'their', '100th', 'day', 'without', 'covid', 'today', 'a', 'society', 'that', 'works', 'together', 'for', 'the', 'common', 'good', \"that's\", 'what', 'actual', 'freedom', 'looks', 'like', 'URL']\n",
            "['it', 's', 'going', 'to', 'be', 'screen', 'time', 'all', 'the', 'time', 'for', 'kindergartners', 'and', 'graduate', 'students', 'alike', 'teachers', 'are', 'threatening', 'strikes', 'and', 'students', 'are', 'already', 'coming', 'home', 'infected', 'with', 'the', 'coronavirus', 'which', 'has', 'upended', 'american', 'education', 'URL']\n"
          ]
        }
      ]
    },
    {
      "cell_type": "markdown",
      "metadata": {
        "id": "JVkL6n6jU1LU"
      },
      "source": [
        "# Problem 3: Unigrams and Bigrams\n",
        "\n",
        "Read **all** tweets from the file `20000_tweets.txt` and print the top 10 unigrams and bigrams. Consider only the English tweets. You have to use `tokenize` and `clean_a_tweet` function.\n",
        "\n",
        "Output format\n",
        "\n",
        "```\n",
        "Top 10 Unigrams\n",
        "@USER\t16698\n",
        "the\t16666\n",
        "URL\t12610\n",
        "to\t11866\n",
        "a\t9845\n",
        "....\n",
        "....\n",
        "....\n",
        "....\n",
        "....\n",
        "\n",
        "Top 10 Bigrams\n",
        "@USER @USER\t7494\n",
        "in the\t1280\n",
        "of the\t1265\n",
        "it ’s\t860\n",
        "a mask\t793\n",
        "....\n",
        "....\n",
        "....\n",
        "....\n",
        "....\n",
        "```\n",
        "\n",
        "Your numbers need not match the above word frequencies. Depending on your tokenizer, you may get different numbers"
      ]
    },
    {
      "cell_type": "code",
      "metadata": {
        "id": "DQs6Th7AlTtb",
        "colab": {
          "base_uri": "https://localhost:8080/"
        },
        "outputId": "d81c7f65-3063-4a02-c3e4-b81571bb9a1b"
      },
      "source": [
        "# Write your code to build top 10 unigrams and bigrams\n",
        "# Hint: You can use python dictionary or collections.Counter().\n",
        "import re\n",
        "import collections as col\n",
        "\n",
        "def find_top_10(file_path):\n",
        "    unigrams = col.Counter()\n",
        "    bigrams = col.Counter()\n",
        "\n",
        "    with open(file_path, 'r') as file:\n",
        "        for line in file:\n",
        "\n",
        "            tokenized_tweet = tokenize(line.strip())\n",
        "            cleaned_tokenized_tweet = clean_a_tweet(tokenized_tweet)\n",
        "\n",
        "            if cleaned_tokenized_tweet:\n",
        "              unigrams.update(cleaned_tokenized_tweet)\n",
        "              bigrams.update(zip(cleaned_tokenized_tweet, cleaned_tokenized_tweet[1:]))\n",
        "\n",
        "    return unigrams, bigrams\n",
        "\n",
        "file_path = \"/content/drive/My Drive/tweets/20000_tweets.txt\"\n",
        "unigrams, bigrams = find_top_10(file_path)\n",
        "\n",
        "print(\"Top 10 Unigrams\")\n",
        "for word, freq in unigrams.most_common(10):\n",
        "    print(f\"{word}\\t{freq}\")\n",
        "\n",
        "print(\"\\nTop 10 Bigrams\")\n",
        "for bigram, freq in bigrams.most_common(10):\n",
        "    print(f\"{' '.join(bigram)}\\t{freq}\")\n",
        "\n",
        "\n",
        "\n",
        "\n",
        "\n"
      ],
      "execution_count": 6,
      "outputs": [
        {
          "output_type": "stream",
          "name": "stdout",
          "text": [
            "Top 10 Unigrams\n",
            "@USER\t16837\n",
            "the\t16667\n",
            "URL\t12626\n",
            "to\t11857\n",
            "a\t9847\n",
            "and\t8548\n",
            "of\t7810\n",
            "in\t6304\n",
            "is\t6210\n",
            "i\t5982\n",
            "\n",
            "Top 10 Bigrams\n",
            "@USER @USER\t7604\n",
            "in the\t1280\n",
            "of the\t1265\n",
            "it s\t870\n",
            "a mask\t792\n",
            "URL URL\t785\n",
            "the pandemic\t736\n",
            "this is\t731\n",
            "wear a\t700\n",
            "a pandemic\t686\n"
          ]
        }
      ]
    },
    {
      "cell_type": "markdown",
      "metadata": {
        "id": "2Q-FpH2k7akG"
      },
      "source": [
        "# Problem 4: How frequent are the following unigrams and bigrams?\n",
        "\n",
        "```\n",
        "covid\n",
        "coronavirus\n",
        "republicans\n",
        "democrats\n",
        "social distancing\n",
        "wear mask\n",
        "no mask\n",
        "donald trump\n",
        "joe biden\n",
        "```\n",
        "\n",
        "Output:\n",
        "```\n",
        "covid\t4437\n",
        "coronavirus\t1368\n",
        "...\n",
        "...\n",
        "social distancing\t568\n",
        "wear mask\t19\n",
        "...\n",
        "...\n",
        "...\n",
        "```\n"
      ]
    },
    {
      "cell_type": "code",
      "metadata": {
        "id": "11Jcaf1T9mHU",
        "colab": {
          "base_uri": "https://localhost:8080/"
        },
        "outputId": "f5f13a93-1a15-4ee0-da45-6cf56b2e358a"
      },
      "source": [
        "# Write your code to print the frequencies of the above unigrams and bigrams\n",
        "# Hint: reuse the dictionaries you built in the previous cell\n",
        "import re\n",
        "import collections as col\n",
        "\n",
        "def find_freq(words, unigrams, bigrams):\n",
        "\n",
        "    result = []\n",
        "\n",
        "    for word in words:\n",
        "        if isinstance(word, str):\n",
        "            count = unigrams.get(word.lower(), 0)\n",
        "        elif isinstance(word, tuple):\n",
        "            count = bigrams.get((word[0].lower(), word[1].lower()), 0)\n",
        "        else:\n",
        "            count = 0\n",
        "\n",
        "        result.append((word, count))\n",
        "\n",
        "    return result\n",
        "\n",
        "file_path = \"/content/drive/My Drive/tweets/20000_tweets.txt\"\n",
        "\n",
        "unigrams, bigrams = find_top_10(file_path)\n",
        "\n",
        "words_list = [\n",
        "    \"covid\",\n",
        "    \"coronavirus\",\n",
        "    \"republicans\",\n",
        "    \"democrats\",\n",
        "    (\"social\", \"distancing\"),\n",
        "    (\"wear\", \"mask\"),\n",
        "    (\"no\", \"mask\"),\n",
        "    (\"joe\", \"biden\"),\n",
        "    (\"donald\", \"trump\")\n",
        "]\n",
        "\n",
        "frequencies = find_freq(words_list, unigrams, bigrams)\n",
        "\n",
        "for word, freq in frequencies:\n",
        "    if isinstance(word, tuple):\n",
        "        print(f\"{' '.join(word)}\\t{freq}\")\n",
        "    else:\n",
        "        print(f\"{word}\\t{freq}\")\n",
        "\n",
        "\n"
      ],
      "execution_count": 7,
      "outputs": [
        {
          "output_type": "stream",
          "name": "stdout",
          "text": [
            "covid\t4350\n",
            "coronavirus\t1359\n",
            "republicans\t58\n",
            "democrats\t167\n",
            "social distancing\t559\n",
            "wear mask\t19\n",
            "no mask\t19\n",
            "joe biden\t24\n",
            "donald trump\t55\n"
          ]
        }
      ]
    }
  ]
}